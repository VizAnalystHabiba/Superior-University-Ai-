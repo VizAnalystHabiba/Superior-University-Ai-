{
 "cells": [
  {
   "cell_type": "markdown",
   "metadata": {},
   "source": [
    "### Task 1"
   ]
  },
  {
   "cell_type": "code",
   "execution_count": 9,
   "metadata": {},
   "outputs": [
    {
     "name": "stdout",
     "output_type": "stream",
     "text": [
      "4\n",
      "7\n",
      "5\n",
      "depth_first\n",
      "6\n",
      "8\n",
      "depth_first\n",
      "depth_first\n",
      "depth_first\n",
      "3\n",
      "depth_first\n",
      "depth_first\n",
      "depth_first\n"
     ]
    }
   ],
   "source": [
    "#DFS with Stack & Node\n",
    "\n",
    "graph={\n",
    "    '4':['7','3'],\n",
    "    '7':['5','6'],\n",
    "    '3':['8'],\n",
    "    '5':[],\n",
    "    '6':['8'],\n",
    "    '8':[]\n",
    "}\n",
    "visited=set()\n",
    "def DFS(visited,graph,node):\n",
    "    if node not in visited:\n",
    "        print(node)\n",
    "        visited.add(node)\n",
    "        for neighbour in graph[node]:\n",
    "            DFS(visited,graph,neighbour)\n",
    "    print(\"depth_first\")\n",
    "DFS(visited,graph,'4')\n"
   ]
  },
  {
   "cell_type": "markdown",
   "metadata": {},
   "source": [
    "### Task 2"
   ]
  },
  {
   "cell_type": "code",
   "execution_count": 15,
   "metadata": {},
   "outputs": [
    {
     "name": "stdout",
     "output_type": "stream",
     "text": [
      "pre_order DFS:\n",
      "4\n"
     ]
    },
    {
     "ename": "KeyError",
     "evalue": "4",
     "output_type": "error",
     "traceback": [
      "\u001b[1;31m---------------------------------------------------------------------------\u001b[0m",
      "\u001b[1;31mKeyError\u001b[0m                                  Traceback (most recent call last)",
      "Cell \u001b[1;32mIn[15], line 38\u001b[0m\n\u001b[0;32m     36\u001b[0m \u001b[38;5;28mprint\u001b[39m(\u001b[38;5;124m\"\u001b[39m\u001b[38;5;124mpre_order DFS:\u001b[39m\u001b[38;5;124m\"\u001b[39m)\n\u001b[0;32m     37\u001b[0m visited\u001b[38;5;241m=\u001b[39m\u001b[38;5;28mset\u001b[39m()\n\u001b[1;32m---> 38\u001b[0m \u001b[43mpre_order\u001b[49m\u001b[43m(\u001b[49m\u001b[38;5;241;43m4\u001b[39;49m\u001b[43m,\u001b[49m\u001b[43mvisited\u001b[49m\u001b[43m)\u001b[49m\n\u001b[0;32m     40\u001b[0m \u001b[38;5;28mprint\u001b[39m(\u001b[38;5;124m'\u001b[39m\u001b[38;5;130;01m\\n\u001b[39;00m\u001b[38;5;124m in_order DFS:\u001b[39m\u001b[38;5;124m'\u001b[39m)\n\u001b[0;32m     41\u001b[0m visited\u001b[38;5;241m=\u001b[39m\u001b[38;5;28mset\u001b[39m()\n",
      "Cell \u001b[1;32mIn[15], line 18\u001b[0m, in \u001b[0;36mpre_order\u001b[1;34m(node, visited)\u001b[0m\n\u001b[0;32m     16\u001b[0m \u001b[38;5;28mprint\u001b[39m(node)\n\u001b[0;32m     17\u001b[0m visited\u001b[38;5;241m.\u001b[39madd(node)\n\u001b[1;32m---> 18\u001b[0m \u001b[38;5;28;01mfor\u001b[39;00m neighbor \u001b[38;5;129;01min\u001b[39;00m \u001b[43mgraph\u001b[49m\u001b[43m \u001b[49m\u001b[43m[\u001b[49m\u001b[43mnode\u001b[49m\u001b[43m]\u001b[49m:\n\u001b[0;32m     19\u001b[0m     pre_order(neighbor,visited)\n",
      "\u001b[1;31mKeyError\u001b[0m: 4"
     ]
    }
   ],
   "source": [
    "#Research about \"Inorder, Preorder, Postorder\" and implement in DFS\n",
    "#preorder (Root/Node,L,R)\n",
    "#inorder(L,Root/node,R)\n",
    "#post order(L,R,Root/node)\n",
    "graph={\n",
    "    '4':['7','3'],\n",
    "    '7':['5','6'],\n",
    "    '3':['8'],\n",
    "    '5':[],\n",
    "    '6':['8'],\n",
    "    '8':[]\n",
    "}\n",
    "visited=set()\n",
    "def pre_order(node,visited):\n",
    "    if node not in visited:\n",
    "        print(node)\n",
    "        visited.add(node)\n",
    "        for neighbor in graph [node]:\n",
    "            pre_order(neighbor,visited)\n",
    "\n",
    "def in_order(node,visited):\n",
    "    if node not in visited:\n",
    "        visited.add(node)\n",
    "        if graph[node]:\n",
    "            in_order(graph[node][0],visited)\n",
    "            print(node)\n",
    "            if len(graph[Node])>1:\n",
    "                in_order(graph[node][1],visited)\n",
    "\n",
    "def post_order(node,visited):\n",
    "    if node not in visited:\n",
    "        for neighbor in graph[node]:\n",
    "            post_order(neighbor,visited)\n",
    "        print(node)\n",
    "\n",
    "print(\"pre_order DFS:\")\n",
    "visited=set()\n",
    "pre_order(4,visited)\n",
    "\n",
    "print('\\n in_order DFS:')\n",
    "visited=set()\n",
    "in_order(4,visited)\n",
    "\n",
    "print('\\n post_order DFS:')\n",
    "visited.set()\n",
    "post_order(4,visited)\n",
    "\n",
    "\n",
    "\n",
    "            \n",
    "\n"
   ]
  },
  {
   "cell_type": "code",
   "execution_count": 10,
   "metadata": {},
   "outputs": [
    {
     "name": "stdout",
     "output_type": "stream",
     "text": [
      "Inorder DFS:\n",
      "5\n",
      "7\n",
      "8\n",
      "6\n",
      "4\n",
      "3\n",
      "\n",
      "Preorder DFS:\n",
      "4\n",
      "7\n",
      "5\n",
      "6\n",
      "8\n",
      "3\n",
      "\n",
      "Postorder DFS:\n",
      "5\n",
      "8\n",
      "6\n",
      "7\n",
      "3\n",
      "4\n"
     ]
    }
   ],
   "source": [
    "graph = {\n",
    "    '4': ['7', '3'],\n",
    "    '7': ['5', '6'],\n",
    "    '3': ['8'],\n",
    "    '5': [],\n",
    "    '6': ['8'],\n",
    "    '8': []\n",
    "}\n",
    "\n",
    "visited = set()\n",
    "\n",
    "def inorder(node):\n",
    "    if node not in visited:\n",
    "        visited.add(node)\n",
    "        \n",
    "        # Left child ko visit karna (pehle neighbor)\n",
    "        if graph[node]:\n",
    "            inorder(graph[node][0])  # First child (left)\n",
    "        \n",
    "        # Process the current node\n",
    "        print(node)  # Inorder processing\n",
    "        \n",
    "        # Right child ko visit karna (second neighbor)\n",
    "        if len(graph[node]) > 1:\n",
    "            inorder(graph[node][1])  # Second child (right)\n",
    "\n",
    "def dfs_preorder(node):\n",
    "    if node not in visited:\n",
    "        print(node)  # Preorder processing\n",
    "        visited.add(node)\n",
    "        for neighbor in graph[node]:\n",
    "            dfs_preorder(neighbor)\n",
    "\n",
    "def dfs_postorder(node):\n",
    "    if node not in visited:\n",
    "        visited.add(node)\n",
    "        for neighbor in graph[node]:\n",
    "            dfs_postorder(neighbor)\n",
    "        print(node)  # Postorder processing\n",
    "\n",
    "# Reset visited for each traversal\n",
    "print(\"Inorder DFS:\")\n",
    "visited.clear()\n",
    "inorder('4')\n",
    "\n",
    "print(\"\\nPreorder DFS:\")\n",
    "visited.clear()\n",
    "dfs_preorder('4')\n",
    "\n",
    "print(\"\\nPostorder DFS:\")\n",
    "visited.clear()\n",
    "dfs_postorder('4')\n"
   ]
  },
  {
   "cell_type": "code",
   "execution_count": null,
   "metadata": {},
   "outputs": [],
   "source": [
    "def pre_order(root):\n",
    "    if not root:\n",
    "        return None\n",
    "    prcess (root)\n",
    "    pre_order(root.left)\n",
    "    pre_order(root.right)\n",
    "    "
   ]
  },
  {
   "cell_type": "code",
   "execution_count": null,
   "metadata": {},
   "outputs": [],
   "source": [
    "def Post_order(root):\n",
    "    if not root:\n",
    "        return\n",
    "    Post_order(root.left)\n",
    "    Post_order(root.right)\n",
    "    process(root)"
   ]
  },
  {
   "cell_type": "code",
   "execution_count": null,
   "metadata": {},
   "outputs": [],
   "source": [
    "def in_order(root):\n",
    "    if not root:\n",
    "        return\n",
    "    in_order(root.left)\n",
    "    process(root)\n",
    "    in_order(root.right)"
   ]
  },
  {
   "cell_type": "code",
   "execution_count": 19,
   "metadata": {},
   "outputs": [
    {
     "name": "stdout",
     "output_type": "stream",
     "text": [
      "pre_order DFS:\n",
      "4\n",
      "7\n",
      "5\n",
      "6\n",
      "8\n",
      "3\n",
      "\n",
      " in_order DFS:\n",
      "7\n",
      "6\n",
      "4\n",
      "3\n",
      "\n",
      " post_order DFS:\n",
      "5\n",
      "8\n",
      "6\n",
      "7\n",
      "8\n",
      "3\n",
      "4\n"
     ]
    }
   ],
   "source": [
    "#Research about \"Inorder, Preorder, Postorder\" and implement in DFS\n",
    "#preorder (Root/Node,L,R)\n",
    "#inorder(L,Root/node,R)\n",
    "#post order(L,R,Root/node)\n",
    "graph={\n",
    "    '4':['7','3'],\n",
    "    '7':['5','6'],\n",
    "    '3':['8'],\n",
    "    '5':[],\n",
    "    '6':['8'],\n",
    "    '8':[]\n",
    "}\n",
    "visited=set()\n",
    "def pre_order(node,visited):\n",
    "    if node not in visited:\n",
    "        print(node)\n",
    "        visited.add(node)\n",
    "        for neighbor in graph [node]:\n",
    "            pre_order(neighbor,visited)\n",
    "\n",
    "def in_order(node,visited):\n",
    "    if node not in visited:\n",
    "        visited.add(node)\n",
    "        if graph[node]:\n",
    "            in_order(graph[node][0],visited)\n",
    "            print(node)\n",
    "            if len(graph[node])>1:\n",
    "                in_order(graph[node][1],visited)\n",
    "\n",
    "def post_order(node,visited):\n",
    "    if node not in visited:\n",
    "        for neighbor in graph[node]:\n",
    "            post_order(neighbor,visited)\n",
    "        print(node)\n",
    "\n",
    "print(\"pre_order DFS:\")\n",
    "visited=set()\n",
    "pre_order('4',visited)\n",
    "\n",
    "print('\\n in_order DFS:')\n",
    "visited=set()\n",
    "in_order('4',visited)\n",
    "\n",
    "print('\\n post_order DFS:')\n",
    "visited=set()\n",
    "post_order('4',visited)\n",
    "\n",
    "\n",
    "\n",
    "            \n",
    "\n"
   ]
  },
  {
   "cell_type": "code",
   "execution_count": null,
   "metadata": {},
   "outputs": [],
   "source": []
  }
 ],
 "metadata": {
  "kernelspec": {
   "display_name": "Python 3",
   "language": "python",
   "name": "python3"
  },
  "language_info": {
   "codemirror_mode": {
    "name": "ipython",
    "version": 3
   },
   "file_extension": ".py",
   "mimetype": "text/x-python",
   "name": "python",
   "nbconvert_exporter": "python",
   "pygments_lexer": "ipython3",
   "version": "3.12.6"
  }
 },
 "nbformat": 4,
 "nbformat_minor": 2
}
