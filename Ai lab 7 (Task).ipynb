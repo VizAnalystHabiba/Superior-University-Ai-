{
 "cells": [
  {
   "cell_type": "code",
   "execution_count": 1,
   "id": "9efc8c97-2395-4049-9895-b72dbda75e06",
   "metadata": {},
   "outputs": [],
   "source": [
    "# A* Algorithm"
   ]
  },
  {
   "cell_type": "code",
   "execution_count": 2,
   "id": "2b0d8c3d-c10d-4ffb-bc90-a65d0e385d13",
   "metadata": {},
   "outputs": [],
   "source": [
    "def a_star_no_heuristic(graph, start, goal):\n",
    "    open_list = [start]  \n",
    "    closed_list = []     \n",
    "    g_cost = {start: 0}\n",
    "    came_from = {start: None}\n",
    "    \n",
    "    while open_list:\n",
    "        current = get_lowest_cost_node(open_list, g_cost)\n",
    "        \n",
    "        if current == goal:\n",
    "            path = []\n",
    "            while current:\n",
    "                path.append(current)\n",
    "                current = came_from[current]\n",
    "            return path[::-1]  \n",
    "        \n",
    "        open_list.remove(current)\n",
    "        closed_list.append(current)\n",
    "\n",
    "        for neighbor, move_cost in graph.get(current, []):\n",
    "            if neighbor in closed_list:\n",
    "                continue\n",
    "            \n",
    "            tentative_g_cost = g_cost[current] + move_cost\n",
    "            \n",
    "            if neighbor not in open_list:\n",
    "                open_list.append(neighbor)\n",
    "            elif tentative_g_cost >= g_cost.get(neighbor, float('inf')):\n",
    "                continue\n",
    "            \n",
    "            came_from[neighbor] = current\n",
    "            g_cost[neighbor] = tentative_g_cost\n",
    "    \n",
    "    return None "
   ]
  },
  {
   "cell_type": "code",
   "execution_count": 3,
   "id": "0978d8a9-8255-486a-9028-bca526c93150",
   "metadata": {},
   "outputs": [],
   "source": [
    "def get_lowest_cost_node(open_list, g_cost):\n",
    "    lowest_node = None\n",
    "    lowest_cost = float('inf')\n",
    "    \n",
    "    for node in open_list:\n",
    "        if g_cost[node] < lowest_cost:\n",
    "            lowest_cost = g_cost[node]\n",
    "            lowest_node = node\n",
    "    return lowest_node"
   ]
  },
  {
   "cell_type": "code",
   "execution_count": 4,
   "id": "6457fac6-9f0b-42bd-83b6-ee479de1ed33",
   "metadata": {},
   "outputs": [],
   "source": [
    "graph = {\n",
    "    (0, 0): [((0, 1), 1), ((1, 0), 1)],\n",
    "    (0, 1): [((0, 0), 1), ((1, 1), 1)],\n",
    "    (1, 0): [((0, 0), 1), ((1, 1), 1), ((2, 0), 1)],\n",
    "    (1, 1): [((0, 1), 1), ((1, 0), 1), ((2, 1), 1)],\n",
    "    (2, 0): [((1, 0), 1), ((2, 1), 1)],\n",
    "    (2, 1): [((2, 0), 1), ((1, 1), 1)]\n",
    "}"
   ]
  },
  {
   "cell_type": "code",
   "execution_count": 5,
   "id": "91d93261-5899-409e-af09-1ac92e24f2f0",
   "metadata": {},
   "outputs": [
    {
     "name": "stdout",
     "output_type": "stream",
     "text": [
      "Path found: [(0, 0), (0, 1), (1, 1), (2, 1)]\n"
     ]
    }
   ],
   "source": [
    "start = (0, 0)\n",
    "goal = (2, 1)\n",
    "path = a_star_no_heuristic(graph, start, goal)\n",
    "\n",
    "if path:\n",
    "    print(\"Path found:\", path)\n",
    "else:\n",
    "    print(\"No path found\")"
   ]
  },
  {
   "cell_type": "code",
   "execution_count": null,
   "id": "9f20b4df-e2b5-465a-9a52-8768043b889b",
   "metadata": {},
   "outputs": [],
   "source": []
  }
 ],
 "metadata": {
  "kernelspec": {
   "display_name": "Python 3 (ipykernel)",
   "language": "python",
   "name": "python3"
  },
  "language_info": {
   "codemirror_mode": {
    "name": "ipython",
    "version": 3
   },
   "file_extension": ".py",
   "mimetype": "text/x-python",
   "name": "python",
   "nbconvert_exporter": "python",
   "pygments_lexer": "ipython3",
   "version": "3.12.4"
  }
 },
 "nbformat": 4,
 "nbformat_minor": 5
}
